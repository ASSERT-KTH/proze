{
 "cells": [
  {
   "cell_type": "code",
   "execution_count": null,
   "id": "77f634b0",
   "metadata": {},
   "outputs": [],
   "source": [
    "import glob\n",
    "import json\n",
    "import pandas as pd\n",
    "import re"
   ]
  },
  {
   "cell_type": "code",
   "execution_count": null,
   "id": "ded4429e",
   "metadata": {},
   "outputs": [],
   "source": [
    "def add_parameters_as_string_in_df(df):\n",
    "    return [','.join(map(str, l)) for l in df['parameters']]"
   ]
  },
  {
   "cell_type": "code",
   "execution_count": null,
   "id": "26177893",
   "metadata": {},
   "outputs": [],
   "source": [
    "def analyze_data():\n",
    "    # we care about methods that are invoked in production\n",
    "    for prod_data_file in prod_files:\n",
    "        print(\"[INFO] Analyzing file\", prod_data_file)\n",
    "        prod_data = pd.read_json(prod_data_file)\n",
    "        # read data for same the method from test folder\n",
    "        corresponding_test_data_file = prod_data_file.replace(\"object-data-prod\", \"object-data-test\")\n",
    "        test_data = pd.read_json(corresponding_test_data_file)\n",
    "        print(\"[INFO] Invocations in production execution:\", len(prod_data))\n",
    "        print(\"[INFO] Invocations in test execution:\", len(test_data))\n",
    "        \n",
    "        # remove invocations of method during test execution that are not called by test methods\n",
    "        print(\"[INFO] Removing invocations from test executions that are not made directly by an invoking test\")\n",
    "        test_data = test_data.drop(test_data[test_data[\"calledByInvokingTest\"] == False].index)\n",
    "        print(\"[INFO] Updated number of invocations in test execution:\", len(test_data))\n",
    "        \n",
    "        if len(test_data) == 0:\n",
    "            print(\"[INFO] No invocations made directly from invoking tests, SKIPPING THIS METHOD\")\n",
    "            print(\"=====================================================================\")\n",
    "            continue\n",
    "        \n",
    "        # convert parameter list to string for before intersection and union\n",
    "        prod_data['parametersAsString'] = add_parameters_as_string_in_df(prod_data)\n",
    "        test_data['parametersAsString'] = add_parameters_as_string_in_df(test_data)\n",
    "        \n",
    "        # only in prod\n",
    "        only_prod = list(set(prod_data[\"parametersAsString\"]) - set(test_data[\"parametersAsString\"]))\n",
    "        print(\"[INFO] Parameters only in production, but not in test executions:\", only_prod)\n",
    "        print(\"=====================================================================\")\n",
    "        if len(only_prod) == 0:\n",
    "            print(\"[INFO] No distinct parameters in production, SKIPPING THIS METHOD\")\n",
    "            print(\"=====================================================================\")\n",
    "            continue\n",
    "        \n",
    "        # only in test\n",
    "        only_test = list(set(test_data[\"parametersAsString\"]) - set(prod_data[\"parametersAsString\"]))\n",
    "        print(\"[INFO] Parameters only in test, but not in production executions:\", only_test)      \n",
    "        print(\"=====================================================================\")\n",
    "        \n",
    "        # intersection\n",
    "        intersection = list(set(prod_data[\"parametersAsString\"]) & set(test_data[\"parametersAsString\"]))\n",
    "        print(\"[INFO] Parameters common to both production and test executions:\", intersection)\n",
    "        print(\"=====================================================================\")\n",
    "        \n",
    "        # union\n",
    "        union = list(set(prod_data[\"parametersAsString\"]).union(set(test_data[\"parametersAsString\"])))\n",
    "        print(\"[INFO] Union of test and production parameters:\", union)\n",
    "        print(\"[INFO] Size of union:\", len(union))\n",
    "        print(\"=================================================================================================\")"
   ]
  },
  {
   "cell_type": "code",
   "execution_count": null,
   "id": "d33aa957",
   "metadata": {},
   "outputs": [],
   "source": [
    "def sanitize_file_to_json(data_file):\n",
    "    # nothing to do if file already sanitized\n",
    "    with open(data_file, 'r') as f:\n",
    "        lines = f.readlines()\n",
    "        if lines[0].startswith(\"[\"):\n",
    "            print(\"[INFO]\", data_file, \"is already sanitized\")\n",
    "            return\n",
    "    with open(data_file, 'r') as f:\n",
    "        lines = f.readlines()\n",
    "        # add comma to all but last line\n",
    "        for i in range(len(lines) - 1):\n",
    "            lines[i] = re.sub(r\"}\\n\", \"},\\n\", lines[i])\n",
    "        # add closing brace after last line\n",
    "        lines[len(lines) - 1] = lines[len(lines) - 1] + \"]\\n\"\n",
    "        # add opening brace before first line\n",
    "        lines[0] = \"[\\n\" + lines[0]\n",
    "\n",
    "    with open(data_file, 'w') as f:\n",
    "        for l in range(len(lines)):\n",
    "            f.write(lines[l])"
   ]
  },
  {
   "cell_type": "code",
   "execution_count": null,
   "id": "52e47bd3",
   "metadata": {},
   "outputs": [],
   "source": [
    "def get_data_files_and_sanitize():\n",
    "    print(\"[INFO] Found\", len(prod_files), \"file(s) with production data\")\n",
    "    print(\"[INFO] Found\", len(test_files), \"file(s) with test data\")\n",
    "\n",
    "    for p in prod_files:\n",
    "        sanitize_file_to_json(p)\n",
    "\n",
    "    for t in test_files:\n",
    "        sanitize_file_to_json(t)\n",
    "    \n",
    "    print(\"=================================================================================================\")"
   ]
  },
  {
   "cell_type": "code",
   "execution_count": null,
   "id": "0f93de83",
   "metadata": {},
   "outputs": [],
   "source": [
    "global prod_files, test_files\n",
    "prod_files = glob.glob(\"/tmp/proze-object-data-prod/*.json\")\n",
    "test_files = glob.glob(\"/tmp/proze-object-data-test/*.json\")\n",
    "\n",
    "get_data_files_and_sanitize()\n",
    "analyze_data()"
   ]
  },
  {
   "cell_type": "code",
   "execution_count": null,
   "id": "3741ae37",
   "metadata": {},
   "outputs": [],
   "source": []
  }
 ],
 "metadata": {
  "kernelspec": {
   "display_name": "Python 3",
   "language": "python",
   "name": "python3"
  },
  "language_info": {
   "codemirror_mode": {
    "name": "ipython",
    "version": 3
   },
   "file_extension": ".py",
   "mimetype": "text/x-python",
   "name": "python",
   "nbconvert_exporter": "python",
   "pygments_lexer": "ipython3",
   "version": "3.8.8"
  }
 },
 "nbformat": 4,
 "nbformat_minor": 5
}
